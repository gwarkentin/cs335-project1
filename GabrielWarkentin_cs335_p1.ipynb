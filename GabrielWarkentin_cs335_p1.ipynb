{
 "cells": [
  {
   "cell_type": "markdown",
   "id": "4cf1f36d-336c-48d9-aed5-28fd08e3dcaf",
   "metadata": {},
   "source": [
    "# CPSC335 - Section 01\n",
    "## Project 1: Greedy Approach to Hamilton Problem & Matching Group Schedules\n",
    "\n",
    "#### Author:\n",
    "Gabriel Warkentin <gabrielwarkentin@csu.fullerton.edu>\n",
    "\n",
    "for [assignment](./SP23_CPSC_335_Project 1_Description.pdf)\n",
    "\n"
   ]
  },
  {
   "cell_type": "markdown",
   "id": "4d32c601-d1b0-4de5-8cf5-8661064b9220",
   "metadata": {},
   "source": [
    "## Problem 1: Greedy Approach to Hamilton Problem\n",
    "\n",
    "### 1.1) Problem Statement:\n",
    "\n",
    "Cities in lie in a circlular directed graph, each city has limited fuel to give, distances between differ. There are no branches.\n",
    "Pick the 1 starting city which allows you to travel through all cities back to the start traveling clockwise.\n",
    "\n",
    "Start with 0 gallons + the fuel of the first city\n",
    "\n",
    "#### Sample Input:\n",
    "\n",
    "```\n",
    "city_distances = [ 5, 25, 15, 10, 15]\n",
    "fuel =           [ 1,  2,  1,  0,  3]\n",
    "mpg = 10\n",
    "```\n",
    "Answer to above: 4 (0 index)"
   ]
  },
  {
   "cell_type": "markdown",
   "id": "ebff8516-9079-4112-9f9b-7569070e8283",
   "metadata": {
    "jp-MarkdownHeadingCollapsed": true,
    "tags": []
   },
   "source": [
    "### 1.2) Solution Approach:\n",
    "\n",
    "First thing is to determine what the net fuel per stop would be. It is most straightforward to build that into an array to analyze.\n",
    "\n",
    "```\n",
    "net_fuel[] = fuel[] * mpg - city_distances[]\n",
    "```\n",
    "\n",
    "I remembered recently seeing [this neetcode video](https://www.youtube.com/watch?v=5WZl3MMT0Eg&t=320s) for finding max subarray of an array, it has some similarities which I consdered in my approach.\n",
    "\n",
    "\n",
    "We can loop through each starting city, checking to ensure we don't run out of fuel (go negative) at any stop.\n",
    "\n",
    "At worst, we will have through each city for each city, so that will be O(n^2)"
   ]
  },
  {
   "cell_type": "markdown",
   "id": "2ae4fc67-2937-4c30-8a5e-d9059c37cfae",
   "metadata": {
    "jp-MarkdownHeadingCollapsed": true,
    "tags": []
   },
   "source": [
    "### 1.3) Pseudocode:\n",
    "```\n",
    "function solution1(city_distances, city_fuel, mpg)\n",
    "\n",
    "    // create net fuel array\n",
    "    for c in city_fuel:\n",
    "        net_fuel[c] = city_fuel[c] * mpg - city_dist[c]\n",
    "        \n",
    "    // try each starting point\n",
    "    for starting_city in cities:\n",
    "        tank = net_fuel[starting city]\n",
    "        \n",
    "        if tank < 0:\n",
    "            next starting_city\n",
    "        \n",
    "        for city in starting_city + 1 wrapping around:\n",
    "            tank += net_fuel[city]\n",
    "            \n",
    "            if tank negative: next starting_city\n",
    "    \n",
    "        if tank >= 0:\n",
    "            return starting_city\n",
    "```         "
   ]
  },
  {
   "cell_type": "markdown",
   "id": "c5c650d1-43fd-4549-aef5-fb3eb207e84e",
   "metadata": {},
   "source": [
    "### 1.4) Efficiency Analysis\n",
    "\n",
    "In this case, it is easiest to provde efficiency with step counts\n",
    "\n",
    "First loop though the elements once, calculating the net fuel. There are 4 steps each loop, so\n",
    "\n",
    "**4n**\n",
    "```\n",
    "n  1  for c in city_fuel:\n",
    "   2        cf = city_fuel[c] * mpg\n",
    "   3        cf -= city_dist[c]\n",
    "   4        net_fuel[c] = cf\n",
    "```\n",
    "\n",
    "Then, a loop inside of a loop,\n",
    "```\n",
    " n 1     for starting_city in cities:\n",
    "   2        tank = net_fuel[starting city]\n",
    "\n",
    "   3        if tank < 0: next starting_city\n",
    "\n",
    "   n  1      for city in starting_city + 1 wrapping around:\n",
    "     2,3        tank += net_fuel[city]\n",
    "\n",
    "     4          if tank negative: next starting_city\n",
    "\n",
    "   4        if tank >= 0: return starting_city\n",
    "```\n",
    "\n",
    "so we have\n",
    "\n",
    "n(4 + 4n) => **4n + 4n^2**\n",
    "\n",
    "All together the algorythm takes\n",
    "\n",
    "4n + 4n + 4n^2 => **8n + 4n^2 steps**\n",
    "\n",
    "By properties of Big Oh, this can be simplified to O(8n) + O(4n^2) => O(n) + O(n^2) => **O(n^2)**"
   ]
  },
  {
   "cell_type": "markdown",
   "id": "8910f656-67cd-4a80-878f-68cb1c2b2a1a",
   "metadata": {},
   "source": [
    "### 1.5) Python Solution:"
   ]
  },
  {
   "cell_type": "code",
   "execution_count": 24,
   "id": "47954551-e7f2-4a24-b596-2e11a2e3cd5b",
   "metadata": {},
   "outputs": [],
   "source": [
    "def solution1(city_dist, city_fuel, mpg):\n",
    "    \n",
    "    n = len(city_dist)\n",
    "\n",
    "    # still 0(N), just using python list comprehension\n",
    "    net_fuel = [city_fuel[c] * mpg - city_dist[c] for c in range(0,n)]\n",
    "    \n",
    "    start_city = -1   # fail\n",
    "    # L is left pointer, R is right pointer (really an index)\n",
    "    \n",
    "    for L in range(0, n):\n",
    "        tank = net_fuel[L]\n",
    "        if tank >= 0:  #try looping through\n",
    "            R = L + 1\n",
    "            \n",
    "            while R != L: # Loop through each city, stop on repeat to start\n",
    "                if R >= n:  # loop around circle\n",
    "                    R = 0\n",
    "                    \n",
    "                tank += net_fuel[R]\n",
    "                \n",
    "                if tank < 0:\n",
    "                    break     # return to for loop\n",
    "                \n",
    "                R += 1\n",
    "                \n",
    "            if tank >= 0:\n",
    "                start_city = L  # leave the for loop\n",
    "                break\n",
    "            \n",
    "    return start_city"
   ]
  },
  {
   "cell_type": "markdown",
   "id": "828de424-a11d-46f2-b0c4-17999e408cde",
   "metadata": {},
   "source": [
    "#### Run test case:"
   ]
  },
  {
   "cell_type": "code",
   "execution_count": 28,
   "id": "9c638f39-b38e-4d85-93d9-bab5ec7e6570",
   "metadata": {},
   "outputs": [
    {
     "name": "stdout",
     "output_type": "stream",
     "text": [
      "4\n"
     ]
    }
   ],
   "source": [
    "city_distances = [ 5, 25, 15, 10, 15]\n",
    "fuel =           [ 1,  2,  1,  0,  3]\n",
    "mpg = 10\n",
    "# expected answer 4\n",
    "\n",
    "print(solution(city_distances, fuel, mpg))"
   ]
  }
 ],
 "metadata": {
  "kernelspec": {
   "display_name": "Python 3 (ipykernel)",
   "language": "python",
   "name": "python3"
  },
  "language_info": {
   "codemirror_mode": {
    "name": "ipython",
    "version": 3
   },
   "file_extension": ".py",
   "mimetype": "text/x-python",
   "name": "python",
   "nbconvert_exporter": "python",
   "pygments_lexer": "ipython3",
   "version": "3.9.7"
  }
 },
 "nbformat": 4,
 "nbformat_minor": 5
}
